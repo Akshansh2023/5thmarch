{
 "cells": [
  {
   "cell_type": "markdown",
   "id": "610075fe-34c5-4c0f-a2d6-da88762cf460",
   "metadata": {},
   "source": [
    "# question 1\n",
    "Q1. How can you create a Bokeh plot using Python code?\n",
    "# Answer"
   ]
  },
  {
   "cell_type": "markdown",
   "id": "7f6dfdca-6f8f-4847-9199-465cded791bf",
   "metadata": {},
   "source": [
    "To create a Bokeh plot using Python code:\n",
    "\n",
    "1. Import the necessary modules, including bokeh.plotting, bokeh.io, and any additional modules for the specific plot type.\n",
    "2. Prepare the data to be plotted.\n",
    "3. Create a new plot using figure().\n",
    "4. Add glyphs to the plot, such as lines or circles, using line(), circle(), and other glyph functions.\n",
    "5. Customize the plot by setting various parameters and adding visual elements such as legends or colorbars.\n",
    "6. Show the plot using show()."
   ]
  },
  {
   "cell_type": "markdown",
   "id": "35519ddd-a9cc-4d6d-96d8-0f4591fc8ded",
   "metadata": {},
   "source": [
    "# question 2\n",
    "Q2. What are glyphs in Bokeh, and how can you add them to a Bokeh plot? Explain with an example.\n",
    "# Answer"
   ]
  },
  {
   "cell_type": "code",
   "execution_count": null,
   "id": "bb33c836-7fa7-418c-9a04-5fe0a784524c",
   "metadata": {},
   "outputs": [],
   "source": [
    "Glyphs are visual elements in Bokeh that can be added to a plot to display data. Glyphs can be thought of as basic building blocks for creating more complex visualizations. Some examples of glyphs in Bokeh include circles, lines, rectangles, and images.\n",
    "\n",
    "To add glyphs to a Bokeh plot, we use glyph methods such as line(), circle(), or rect(). These methods take data as inputs and generate glyphs that represent the data in the plot.\n",
    "\n",
    "Here's an example of adding a line glyph to a Bokeh plot:"
   ]
  },
  {
   "cell_type": "code",
   "execution_count": 1,
   "id": "ac244df6-0d10-4236-8098-f6c41247fa0f",
   "metadata": {},
   "outputs": [],
   "source": [
    "from bokeh.plotting import figure, show\n",
    "x = [1, 2, 3, 4, 5]\n",
    "y = [2, 4, 6, 8, 10]\n",
    "p = figure(x_axis_label='x', y_axis_label='y')\n",
    "p.line(x, y, line_width=2)\n",
    "show(p)"
   ]
  },
  {
   "cell_type": "markdown",
   "id": "92095d98-f864-4b76-9e14-fda04cb6007c",
   "metadata": {},
   "source": [
    "# Question 3 \n",
    "Q3. How can you customize the appearance of a Bokeh plot, including the axes, title, and legend?\n",
    "# Answer"
   ]
  },
  {
   "cell_type": "markdown",
   "id": "0fa1db46-5f0c-47b0-808d-08f600eb62de",
   "metadata": {},
   "source": [
    "To customize the appearance of a Bokeh plot:\n",
    "1. To customize the axes, we can use p.xaxis and p.yaxis to set axis properties like axis_label and axis_label_standoff.\n",
    "2. To customize the title, we can set the plot's title attribute and modify its properties like text_color and text_font_size.\n",
    "3. To customize the legend, we can use p.legend to set legend properties like label_text_font_size and label_text_color, and we can also customize the position of the legend on the plot using p.legend.location."
   ]
  },
  {
   "cell_type": "code",
   "execution_count": null,
   "id": "339a6eba-812e-44be-ab2f-724b52de35f8",
   "metadata": {},
   "outputs": [],
   "source": [
    "# customizing Axes\n",
    "p.xaxis.axis_label = 'X-axis'\n",
    "p.x_range = [0, 6]\n",
    "p.yaxis.axis_label = 'Y-axis'\n",
    "p.y_range = [0, 12]\n",
    "# customize title \n",
    "p.title.text = 'My Custom Title'\n",
    "p.title.text_color = 'blue'\n",
    "p.title.text_font_size = '20pt'\n",
    "# Customize the legend text size and color\n",
    "p.legend.label_text_font_size = '14pt'\n",
    "p.legend.label_text_color = 'green'\n",
    "p.legend.location = 'top_left'\n"
   ]
  },
  {
   "cell_type": "markdown",
   "id": "475a83a1-1d67-41ff-ba02-8f1d616fcae0",
   "metadata": {},
   "source": [
    "# Question 4\n",
    "Q4. What is a Bokeh server, and how can you use it to create interactive plots that can be updated in\n",
    "real time? \n",
    "# Answer"
   ]
  },
  {
   "cell_type": "code",
   "execution_count": null,
   "id": "5a96f579-3f97-4531-8dc8-1fdfafaaeaf3",
   "metadata": {},
   "outputs": [],
   "source": [
    "A Bokeh server is a Python application that allows for the creation of interactive web-based data visualizations. \n",
    "The Bokeh server allows for the creation of dynamic, interactive plots that can be updated in real-time based on user input or changes in the underlying data.\n",
    "To use the Bokeh server to create interactive plots, you need to define a Bokeh application, which is a Python function that returns a Bokeh document.\n",
    "The Bokeh document contains the various components of the plot, such as the data, glyphs, and layout. \n",
    "The application can then be run on the Bokeh server, which will serve the plot as a web application.\n",
    "When the Bokeh server is running, the plot can be updated in real-time based on user input or changes in the underlying data.\n",
    "For example, you could add a drop-down menu that allows the user to select which data to display, and the plot will update in real-time to show the new data."
   ]
  },
  {
   "cell_type": "markdown",
   "id": "64e249b6-3d2c-40b4-9bd2-926d4caef4a5",
   "metadata": {},
   "source": [
    "# Question 5\n",
    "Q5. How can you embed a Bokeh plot into a web page or dashboard using Flask or Django?\n",
    "# Answer"
   ]
  },
  {
   "cell_type": "code",
   "execution_count": null,
   "id": "1f93c1d5-7a8f-4e81-9c74-9d49bceb83ae",
   "metadata": {},
   "outputs": [],
   "source": [
    "# example of how to embed a Bokeh plot into a Flask app:\n",
    "Using from flask import Flask, render_template\n",
    "from bokeh.plotting import figure, ColumnDataSource\n",
    "from bokeh.embed import json_item\n",
    "from bokeh.models import HoverTool\n",
    "from bokeh.layouts import column\n",
    "from bokeh.server.server import Server\n",
    "\n",
    "app = Flask(__name__)\n",
    "\n",
    "# Define the Bokeh application\n",
    "def make_plot(doc):\n",
    "    source = ColumnDataSource(data=dict(x=[1, 2, 3], y=[4, 5, 6]))\n",
    "    plot = figure(title='My Plot', x_axis_label='X', y_axis_label='Y')\n",
    "    plot.circle('x', 'y', source=source)\n",
    "\n",
    "    # Add a hover tool\n",
    "    hover = HoverTool(tooltips=[('X', '@x'), ('Y', '@y')])\n",
    "    plot.add_tools(hover)\n",
    "\n",
    "    doc.add_root(column(plot))\n",
    "\n",
    "# Start the Bokeh server\n",
    "bokeh_app = Server({'/': make_plot})\n",
    "bokeh_app.start()\n",
    "\n",
    "# Define the Flask route\n",
    "@app.route('/')\n",
    "def index():\n",
    "    # Embed the Bokeh plot in the HTML template\n",
    "    script = json_item(bokeh_app, \"/\")\n",
    "    return render_template('index.html', script=script)\n",
    "\n",
    "# Define the route that serves the Bokeh document as JSON\n",
    "@app.route('/bokeh')\n",
    "def bokeh():\n",
    "    return bokeh_app.create_html_snippet('/', 'bokeh')\n",
    "\n",
    "if __name__ == '__main__':\n",
    "    app.run(debug=True)\n"
   ]
  },
  {
   "cell_type": "code",
   "execution_count": null,
   "id": "69aabd45-c550-4183-be6e-5ccecfbe1e77",
   "metadata": {},
   "outputs": [],
   "source": []
  },
  {
   "cell_type": "code",
   "execution_count": null,
   "id": "232e95f7-91e7-48cb-8990-69f1416cf0f6",
   "metadata": {},
   "outputs": [],
   "source": []
  }
 ],
 "metadata": {
  "kernelspec": {
   "display_name": "Python 3 (ipykernel)",
   "language": "python",
   "name": "python3"
  },
  "language_info": {
   "codemirror_mode": {
    "name": "ipython",
    "version": 3
   },
   "file_extension": ".py",
   "mimetype": "text/x-python",
   "name": "python",
   "nbconvert_exporter": "python",
   "pygments_lexer": "ipython3",
   "version": "3.10.8"
  }
 },
 "nbformat": 4,
 "nbformat_minor": 5
}
